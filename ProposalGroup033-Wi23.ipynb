{
 "cells": [
  {
   "cell_type": "markdown",
   "metadata": {},
   "source": [
    "# COGS 118A- Project Proposal"
   ]
  },
  {
   "cell_type": "markdown",
   "metadata": {},
   "source": [
    "### Peer Review\n",
    "\n",
    "You will all have an opportunity to look at the Project Proposals of other groups to fuel your creativity and get more ideas for how you can improve your own projects. \n",
    "\n",
    "Both the project proposal and project checkpoint will have peer review."
   ]
  },
  {
   "attachments": {},
   "cell_type": "markdown",
   "metadata": {},
   "source": [
    "# Names\n",
    "\n",
    "Hopefully your team is at least this good. Obviously you should replace these with your names.\n",
    "\n",
    "- Chenxi Li (A16341810)\n",
    "- Jialong Guo (A15851883)\n",
    "- Gege Bei(A16356724)\n",
    "- Sikai Liang(A16839298)\n",
    "- Jinyi Zhao (A16315154)"
   ]
  },
  {
   "attachments": {},
   "cell_type": "markdown",
   "metadata": {},
   "source": [
    "# Abstract \n",
    "\n",
    "It has been quite confusing to define what a popular game is by the total counts of user reviews, therefore, the goal of our project is to create a relatively objective universal model to evaluate whether a new game would be popular. The data of the dataset represents multiple criterias of the games, and some of the data are categorical (boolean), including the supported systems and rating(positive/negative), and the rest of the data are statistical, which includes the total counts of user reviews, the positive ratios of the games, the initial and final prices of the games, and the discounts that were offered. We will be using the algorithms that were learned in class, and we will divide these data into a training set (validation set), and test set to create and train our model to fit as closely as possible to the dataset, and we will use this model to predict a new game, and determine if it is popular or not. Finally, the performance will be measured using the f1 score.\n"
   ]
  },
  {
   "attachments": {},
   "cell_type": "markdown",
   "metadata": {},
   "source": [
    "# Background\n",
    "\n",
    "Personal Computer (PC) video games, as one of the primary forms of entertainment of the public, have long been drawing people’s attention due to their highly engaging and versatile nature. According to the latest gaming statistics, the global video game industry has accumulated a tremendous consumer base (ie. approximately 38% of the worldwide population has video gaming experiences), forming a total market size, measured by yielded revenues, of approximately $106.8 billions in 2023. [<sup>1</sup>](#industrynote)\n",
    "\n",
    "Moreover, the global video game industry has still been undergoing a developmental stage of rapid growth due to high market demand. The market size of the global video game industry, as the statistics indicated, is estimated to increase 9.4% over the year of 2023 and reach approximately 135 billion dollars by 2025, in which the PC gaming sector alone will accumulate around $46.7 billion.[<sup>2</sup>](#industrynote) Through this tremendous consumer base and the capability of creating immersive, captivating worlds that enable individuals to explore various cultures and experiences, the video game industry undeniably has crucial impacts on people’s entertainment and social & cultural trends in the modern era. \n",
    "\n",
    "Unlike the video game market back in early 2000s where the majority sales occurred at retail stores, the digital distribution platforms, such as Steam, GamersGate, Microsoft Store, EA Origin, and so forth, have been contributing to the majority (approximately 83%) of the global video game sales nowadays[<sup>3</sup>](#industrynote). Steam, as the top digital distribution platform in terms of video game sales and number of users, for instance, accounts for approximately 50% to 70% of the entire PC video game downloads as well as 75% of the global vertical market[<sup>4</sup>](#industrynote). Such digital distribution platforms employ a series of marketing and sale strategies/practices that satisfy their active users’ demand as well as maximize their revenues and market shares. Among such business practices, building and employing a reliable, efficient model, which is capable of yielding sound estimations of popularity of video games, play the essential role in optimizing business operations. Therefore, in order to not only acquire a complete knowledge of the future development of the video game industry but also generate accurate recommendations of the products (ie. games), which ensures promising sales, it is absolutely necessary to establish an effective evaluation mechanism as mentioned above. Quite a few prior studies/works have gone on in the research area of PC video game recommendation systems. The “Predicting the Popularity of Games on Steam,” for instance, investigates & analyzes data of game genres, features, prices, developers, etc., from Steam and develops a predictive model that aims to discover the popularity of PC video games through the evaluation of their post-release success. Our project employs a similar approach (ie. establishing an evaluation mechanism that accurately and objectively predicts the popularity of PC video games), yet examines the data that focuses on the feedbacks & reviews and sales information of the games of different genres released on Steam, including total counts of user reviews, the positive ratios of the games, the initial and final prices of the games, and the discounts that were offered. Through this project, we aim to facilitate the customer targeting process of the digital PC video game distribution platforms, aiding them with objective more time-saving, accurate user-specific video game \n"
   ]
  },
  {
   "attachments": {},
   "cell_type": "markdown",
   "metadata": {},
   "source": [
    "# Problem Statement\n",
    "\n",
    "The problem we are trying to solve is “how can we construct a game evaluation model utilizing the machine learning-based technique to accurately predict the game’s popularity?” \n",
    "\n",
    "\n",
    "Clearly describe the problem that you are solving. Avoid ambiguous words. The problem described should be well defined and should have at least one ML-relevant potential solution. Additionally, describe the problem thoroughly such that it is clear that the problem is quantifiable (the problem can be expressed in mathematical or logical terms), measurable (the problem can be measured by some metric and clearly observed), and replicable (the problem can be reproduced and occurs more than once).\n"
   ]
  },
  {
   "attachments": {},
   "cell_type": "markdown",
   "metadata": {},
   "source": [
    "# Data\n",
    "\n",
    "Link to the dataset: https://www.kaggle.com/datasets/antonkozyriev/game-recommendations-on-steam\n",
    "\n",
    "The dataset we use contains 21232 unique observations and 13 variables. The observation consists of product name, date released, support systems for games, rating, user reviews, price, discount, etc. The critical variables would be rating for games, user reviews, and price. They are stored as numerical data in different columns. \n",
    "\n",
    "Before making the algorithm models, we will do data cleaning first and briefly analyze the data, checking for missing or null values in the dataset, eliminating outliers or extreme values that would affect accuracy of our model and predictions, finding the dataset distribution and correlation between different variables.\n",
    "\n",
    "\n",
    "\n"
   ]
  },
  {
   "attachments": {},
   "cell_type": "markdown",
   "metadata": {},
   "source": [
    "# Proposed Solution\n",
    "\n",
    "Just like what we have mentioned above, the input of our data includes two major categories — categorical variables and statistical variables, hence our solution/model needs to include several algorithms in order to take both of these variables into account when deciding whether the game is recommended or not. We will be using one-hot encoding for the categorical variables(boolean), which means we will transform the data such as the supported system of the game. Then we will add the sum of the variables for each row, since each row represents a game. This will determine the games that are most adaptive, since the higher the sum is, the most systems it could be implemented on. Then, we will be using linear regression to tackle the statistical variable, which means we will use the linear regression to test the correlation between the rating scales(positive/negative) and the ratio. Next, we will create a model that combines these two algorithms, and the model would be a binary classification model, which means it could be used to determine whether a game is popular or not. More user reviews indicate more people are actually playing this game, which means the game is more likely to be above the decision boundary(we will also include other measuring standards like positive rating, price, sales, gaming hours). After creating the model, we will use a game that was not in the dataset and take the specs of the games back into our model to test the accuracy(we are trying to check the generalization here, therefore we will utilize newly released games that are not in the original dataset . Moreover, the metric that we will be using is F1 score, which is a metric that is used to determine the performance of a binary classification model.\n",
    " "
   ]
  },
  {
   "attachments": {},
   "cell_type": "markdown",
   "metadata": {},
   "source": [
    "# Evaluation Metrics\n",
    "\n",
    "The evaluation metric that we chose is the F1 score, as we learned in the class, the F1 score is used to evaluate the performance of a binary classification model, which fits our model(the intended solution) perfectly, since we are trying to generate a model that could classify either a game is popular or not, and unlike other metrics, F1 scores takes both precision and recall into account, which means it is the most balanced metric among them. This is important in our case, since the false positives and false negatives are equally important. False positives in this case represents the game that is actually not popular but is classified as a popular game, which would increase the potential buyers of the game, and also increase the potential financial loss to the buyers since the game might not be worth buying; and the false negatives indicate that the game is actually a popular game but the model classified it as an unpopular game, which would potentially cause financial loss to the companies since the number of potential buyers would decrease. Therefore, the F1 score would be the best option since it could tell us how the model is performing based on these two factors(FN and FP). The mathematical representations of this metric is F1 = 2 * (precision * recall) / (precision + recall), and the metric is derived from the harmonic mean of precision and recall.\n",
    "\n"
   ]
  },
  {
   "cell_type": "markdown",
   "metadata": {},
   "source": [
    "# Ethics & Privacy"
   ]
  },
  {
   "attachments": {},
   "cell_type": "markdown",
   "metadata": {},
   "source": [
    "1. All data used in this project are collected and stored through a publicly accessible way from Kaggle official users.\n",
    "2. All data will be only used for the purpose of this project, and will not be used for other private offended purposes. \n",
    "3. We will minimize the harmful consequences concerning any potential bias or impacting on any specific race group or individuals because we ensure that no particular \n",
    "   names or races or religion stuff will show in our data or project.\n",
    "4. Any potential conflict of interest will be disclosed and we tried to take special attention on the topics such as nationality, religion, or ethnicity. However, we \n",
    "   are going to analyze the game from different producers. But we will try to point out any arbitrary variables that will influence our predicting results and analysis"
   ]
  },
  {
   "cell_type": "markdown",
   "metadata": {},
   "source": [
    "# Team Expectations "
   ]
  },
  {
   "attachments": {},
   "cell_type": "markdown",
   "metadata": {},
   "source": [
    "Put things here that cement how you will interact/communicate as a team, how you will handle conflict and difficulty, how you will handle making decisions and setting goals/schedule, how much work you expect from each other, how you will handle deadlines, etc...\n",
    "* Have group meetings every week, make clear deadlines, and update the progress \n",
    "* Express opinions and listen actively to each other\n",
    "* Reach consensus that everyone agrees with\n",
    "* Ensure everyone contributing equally \n",
    "* Respect the diversity among culture, background, and personal beliefs\n",
    "* Properly illustrate the learning outcome from inner course material and individual study\n",
    "* Finish a project that makes everyone proud of\n",
    "* Always following the academic integrity rules set by both the department and the instructional team\n"
   ]
  },
  {
   "cell_type": "markdown",
   "metadata": {},
   "source": [
    "# Project Timeline Proposal"
   ]
  },
  {
   "attachments": {},
   "cell_type": "markdown",
   "metadata": {},
   "source": [
    "Replace this with something meaningful that is appropriate for your needs. It doesn't have to be something that fits this format.  It doesn't have to be set in stone... \"no battle plan survives contact with the enemy\". But you need a battle plan nonetheless, and you need to keep it updated so you understand what you are trying to accomplish, who's responsible for what, and what the expected due dates are for each item.\n",
    "\n",
    "| Meeting Date  | Meeting Time| Completed Before Meeting  | Discuss at Meeting |\n",
    "|---|---|---|---|\n",
    "| 2/20 |  7 PM |  Brainstorm topics/questions (all)  | Determine best form of communication; Discuss and decide on final project topic; discuss hypothesis; begin background research | \n",
    "| 2/21  | 7 PM |  Do background research on topic (Pelé) | Discuss ideal dataset(s) and ethics; draft project proposal | \n",
    "| 2/22  | 7 PM  | Edit, finalize, and submit proposal; Search for datasets (Beckenbaur)  | Discuss Wrangling and possible analytical approaches; Assign group members to lead each specific part   |\n",
    "| 2/28  | 6 PM  | Import & Wrangle Data ,do some EDA (Maradonna) | Review/Edit wrangling/EDA; Discuss Analysis Plan   |\n",
    "| 3/7   | 6 PM  | Finalize wrangling/EDA; Begin programming for project (Cruyff) | Discuss/edit project code; Complete project |\n",
    "| 3/13  | 6 PM  | Complete analysis; Draft results/conclusion/discussion (Carlos)| Discuss/edit full project |\n",
    "| 3/19  | Before 11:59 PM  | NA | Turn in Final Project  |"
   ]
  },
  {
   "attachments": {},
   "cell_type": "markdown",
   "metadata": {},
   "source": [
    "# Footnotes\n",
    "<a name=\"industrynote\"></a>1.[^](#industrynote): Industry market research, reports, and Statistics (no date) IBISWorld. Available at: https://www.ibisworld.com/industry-statistics/market-size/video-games-united-states/#:~:text=The%20market%20size%2C%20measured%20by,to%20increase%209.4%25%20in%202023 (Accessed: February 22, 2023). <br>\n",
    "<a name=\"kaiser\"></a>2.[^](#kaisernote): Kaisersays:, Milagros. “Gaming Statistics 2023.” TrueList, 9 Jan. 2023, https://truelist.co/blog/gaming-statistics/ (Accessed: February 22, 2023). <br>\n",
    "<a name=\"kaiser\"></a>3.[^](#kaisernote): Kaisersays:, Milagros. “Gaming Statistics 2023.” TrueList, 9 Jan. 2023, https://truelist.co/blog/gaming-statistics/ (Accessed: February 22, 2023). <br>\n",
    "<a name=\" barrynote\"></a>4.[^](#barrynote): Elad, Barry. “25+ Steam Statistics 2022 Users, Most Played Games and Market Share.” Enterprise Apps Today, 15 Aug. 2022, https://www.enterpriseappstoday.com/stats/steam-statistics.html#:~:text=Steam%20accounts%20for%2050%25%20to,20%20million%20gamers%20every%20day (Accessed: February 22, 2023)",
    "\n"
   ]
  },
  {
   "cell_type": "code",
   "execution_count": null,
   "metadata": {},
   "outputs": [],
   "source": []
  }
 ],
 "metadata": {
  "kernelspec": {
   "display_name": "Python 3",
   "language": "python",
   "name": "python3"
  },
  "language_info": {
   "codemirror_mode": {
    "name": "ipython",
    "version": 3
   },
   "file_extension": ".py",
   "mimetype": "text/x-python",
   "name": "python",
   "nbconvert_exporter": "python",
   "pygments_lexer": "ipython3",
   "version": "3.8.8"
  }
 },
 "nbformat": 4,
 "nbformat_minor": 2
}
